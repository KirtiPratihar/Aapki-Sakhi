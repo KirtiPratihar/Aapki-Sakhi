{
 "cells": [
  {
   "cell_type": "code",
   "execution_count": 1,
   "id": "4a66b061",
   "metadata": {},
   "outputs": [],
   "source": [
    "import csv\n",
    "import pandas as pd\n",
    "import matplotlib.pyplot as plt\n"
   ]
  },
  {
   "cell_type": "code",
   "execution_count": 2,
   "id": "5271fb42",
   "metadata": {},
   "outputs": [
    {
     "name": "stdout",
     "output_type": "stream",
     "text": [
      "You want to add the data? yes\n",
      "Enter your name: ritika\n",
      "Enter your address: varanasi\n",
      "Enter your email: ritika@gmail.com\n",
      "Enter your phone Name No: 3456432123\n",
      "Enter the no of pads: 30\n",
      "Enter your Product Type: regular\n",
      "Do you want to enter another record? (yes/no): yes\n",
      "Enter your name: anjana\n",
      "Enter your address: jaunpur\n",
      "Enter your email: anjana@gmail.com\n",
      "Enter your phone Name No: 9994443332\n",
      "Enter the no of pads: 21\n",
      "Enter your Product Type: larg\n",
      "Do you want to enter another record? (yes/no): yes\n",
      "Enter your name: neha\n",
      "Enter your address: utter predesh\n",
      "Enter your email: neha@hotmail.com\n",
      "Enter your phone Name No: 1234554324\n",
      "Enter the no of pads: 30\n",
      "Enter your Product Type: night time\n",
      "Do you want to enter another record? (yes/no): yes\n",
      "Enter your name: riya\n",
      "Enter your address: kolkata\n",
      "Enter your email: riya@gmail.com\n",
      "Enter your phone Name No: 3498450945\n",
      "Enter the no of pads: 50\n",
      "Enter your Product Type: extra larg\n",
      "Do you want to enter another record? (yes/no): no\n"
     ]
    }
   ],
   "source": [
    "def get_user_input():\n",
    "    name = input(\"Enter your name: \")\n",
    "    address = input(\"Enter your address: \")\n",
    "    email = input(\"Enter your email: \")\n",
    "    phone_number = input(\"Enter your phone Name No: \")\n",
    "    number_of_pad = input(\"Enter the no of pads: \")\n",
    "    type_of_Product = input(\"Enter your Product Type: \")\n",
    "    \n",
    "    return [name,address, email,phone_number,number_of_pad, type_of_Product]\n",
    "\n",
    "def write_to_csv(data, filename='request_pad_data.csv'):\n",
    "    with open(filename, mode='a', newline='') as file:\n",
    "        writer = csv.writer(file)\n",
    "        writer.writerow(data)\n",
    "\n",
    "def main():\n",
    "    filename = 'request_pad_data.csv'\n",
    "    try:\n",
    "        with open(filename, mode='x', newline='') as file:\n",
    "            writer = csv.writer(file)\n",
    "            writer.writerow([\"Name\", \"Address\", \"Email Id\", \"Phone Number\",\"Number of Pads\" \"Type of Pad\"])\n",
    "    except FileExistsError:\n",
    "        pass\n",
    "\n",
    "    while True:\n",
    "        user_data = get_user_input()\n",
    "        write_to_csv(user_data)\n",
    "\n",
    "        another = input(\"Do you want to enter another record? (yes/no): \").strip().lower()\n",
    "        if another != 'yes':\n",
    "            break\n",
    "\n",
    "input_user = input(\"You want to add the data? \")\n",
    "if input_user == 'yes': \n",
    "    if __name__ == \"__main__\":\n",
    "        main()\n",
    "elif input_user==\"no\":\n",
    "    pass\n",
    "else:\n",
    "    print(\"Please inter the valid input\")\n"
   ]
  },
  {
   "cell_type": "code",
   "execution_count": 3,
   "id": "217fa766",
   "metadata": {},
   "outputs": [],
   "source": [
    "data = pd.read_csv('request_pad_data.csv')"
   ]
  },
  {
   "cell_type": "code",
   "execution_count": 4,
   "id": "90f7cc15",
   "metadata": {},
   "outputs": [
    {
     "data": {
      "text/html": [
       "<div>\n",
       "<style scoped>\n",
       "    .dataframe tbody tr th:only-of-type {\n",
       "        vertical-align: middle;\n",
       "    }\n",
       "\n",
       "    .dataframe tbody tr th {\n",
       "        vertical-align: top;\n",
       "    }\n",
       "\n",
       "    .dataframe thead th {\n",
       "        text-align: right;\n",
       "    }\n",
       "</style>\n",
       "<table border=\"1\" class=\"dataframe\">\n",
       "  <thead>\n",
       "    <tr style=\"text-align: right;\">\n",
       "      <th></th>\n",
       "      <th>Name</th>\n",
       "      <th>Address</th>\n",
       "      <th>Email Id</th>\n",
       "      <th>Phone Number</th>\n",
       "      <th>Number of PadsType of Pad</th>\n",
       "    </tr>\n",
       "  </thead>\n",
       "  <tbody>\n",
       "    <tr>\n",
       "      <th>ritika</th>\n",
       "      <td>varanasi</td>\n",
       "      <td>ritika@gmail.com</td>\n",
       "      <td>3456432123</td>\n",
       "      <td>30</td>\n",
       "      <td>regular</td>\n",
       "    </tr>\n",
       "    <tr>\n",
       "      <th>anjana</th>\n",
       "      <td>jaunpur</td>\n",
       "      <td>anjana@gmail.com</td>\n",
       "      <td>9994443332</td>\n",
       "      <td>21</td>\n",
       "      <td>larg</td>\n",
       "    </tr>\n",
       "    <tr>\n",
       "      <th>neha</th>\n",
       "      <td>utter predesh</td>\n",
       "      <td>neha@hotmail.com</td>\n",
       "      <td>1234554324</td>\n",
       "      <td>30</td>\n",
       "      <td>night time</td>\n",
       "    </tr>\n",
       "    <tr>\n",
       "      <th>riya</th>\n",
       "      <td>kolkata</td>\n",
       "      <td>riya@gmail.com</td>\n",
       "      <td>3498450945</td>\n",
       "      <td>50</td>\n",
       "      <td>extra larg</td>\n",
       "    </tr>\n",
       "  </tbody>\n",
       "</table>\n",
       "</div>"
      ],
      "text/plain": [
       "                 Name           Address    Email Id  Phone Number  \\\n",
       "ritika       varanasi  ritika@gmail.com  3456432123            30   \n",
       "anjana        jaunpur  anjana@gmail.com  9994443332            21   \n",
       "neha    utter predesh  neha@hotmail.com  1234554324            30   \n",
       "riya          kolkata    riya@gmail.com  3498450945            50   \n",
       "\n",
       "       Number of PadsType of Pad  \n",
       "ritika                   regular  \n",
       "anjana                      larg  \n",
       "neha                  night time  \n",
       "riya                  extra larg  "
      ]
     },
     "execution_count": 4,
     "metadata": {},
     "output_type": "execute_result"
    }
   ],
   "source": [
    "data"
   ]
  },
  {
   "cell_type": "code",
   "execution_count": null,
   "id": "6e76998e",
   "metadata": {},
   "outputs": [],
   "source": []
  }
 ],
 "metadata": {
  "kernelspec": {
   "display_name": "Python 3 (ipykernel)",
   "language": "python",
   "name": "python3"
  },
  "language_info": {
   "codemirror_mode": {
    "name": "ipython",
    "version": 3
   },
   "file_extension": ".py",
   "mimetype": "text/x-python",
   "name": "python",
   "nbconvert_exporter": "python",
   "pygments_lexer": "ipython3",
   "version": "3.11.4"
  }
 },
 "nbformat": 4,
 "nbformat_minor": 5
}
